{
 "cells": [
  {
   "cell_type": "markdown",
   "metadata": {},
   "source": [
    "### Prueba de tareas\n",
    "- Espacio de trabajo"
   ]
  },
  {
   "cell_type": "code",
   "execution_count": 1,
   "metadata": {},
   "outputs": [],
   "source": [
    "# import library\n",
    "\n",
    "import csv"
   ]
  },
  {
   "cell_type": "code",
   "execution_count": 2,
   "metadata": {},
   "outputs": [],
   "source": [
    "#cargando Los archivos texts y calls\n",
    "\n",
    "with open('./texts.csv', 'r') as f:\n",
    "    reader = csv.reader(f)\n",
    "    texts = list(reader)\n",
    "\n",
    "with open('./calls.csv', 'r') as f:\n",
    "    reader = csv.reader(f)\n",
    "    calls = list(reader)"
   ]
  },
  {
   "cell_type": "code",
   "execution_count": 3,
   "metadata": {},
   "outputs": [
    {
     "name": "stdout",
     "output_type": "stream",
     "text": [
      "[['97424 22395', '90365 06212', '01-09-2016 06:03:22'], ['94489 72078', '92415 91418', '01-09-2016 06:05:35']]\n",
      "[['78130 00821', '98453 94494', '01-09-2016 06:01:12', '186'], ['78298 91466', '(022)28952819', '01-09-2016 06:01:59', '2093']]\n"
     ]
    }
   ],
   "source": [
    "#Exploracion de datos\n",
    "\n",
    "print(texts[:2])\n",
    "print(calls[:2])"
   ]
  },
  {
   "cell_type": "markdown",
   "metadata": {},
   "source": [
    "### Task0\n",
    "```python\n",
    "\"\"\"\n",
    "TASK 1:\n",
    "How many different telephone numbers are there in the records? \n",
    "Print a message:\n",
    "\"There are <count> different telephone numbers in the records.\"\n",
    "\"\"\"\n",
    "```"
   ]
  },
  {
   "cell_type": "code",
   "execution_count": 4,
   "metadata": {},
   "outputs": [
    {
     "name": "stdout",
     "output_type": "stream",
     "text": [
      "\n",
      "First record of texts, 97424 22395 texts 90365 06212 at time 01-09-2016 06:03:22\n",
      "Last record of calls, 98447 62998 calls (080)46304537 at time 30-09-2016 23:57:15, lasting 2151 seconds\n"
     ]
    }
   ],
   "source": [
    "print(\"\\nFirst record of texts, {0} texts {1} at time {2}\" \\\n",
    "      .format(texts[0][0],texts[0][1],texts[0][2]))\n",
    "print(\"Last record of calls, {0} calls {1} at time {2}, lasting {3} seconds\" \\\n",
    "      .format(calls[-1][0], calls[-1][1], calls[-1][2], calls[-1][3]))"
   ]
  },
  {
   "cell_type": "markdown",
   "metadata": {},
   "source": [
    "### Task1\n",
    "```python\n",
    "\"\"\"\n",
    "TASK 1:\n",
    "How many different telephone numbers are there in the records? \n",
    "Print a message:\n",
    "\"There are <count> different telephone numbers in the records.\"\n",
    "\"\"\"\n",
    "```"
   ]
  },
  {
   "cell_type": "code",
   "execution_count": 5,
   "metadata": {},
   "outputs": [
    {
     "name": "stdout",
     "output_type": "stream",
     "text": [
      "\n",
      "There are 570 different telephone numbers in the records.\n"
     ]
    }
   ],
   "source": [
    "def unique_records(list_of_list):\n",
    "    \"\"\" Returns the number of the unique records \"\"\"\n",
    "    \n",
    "    records = []\n",
    "    for l in list_of_list:\n",
    "        records += l[:2]\n",
    "    return len(set(records))\n",
    "\n",
    "all_register = texts + calls\n",
    "print(\"\\nThere are {} different telephone numbers in the records.\" \\\n",
    "      .format(unique_records(all_register)))"
   ]
  },
  {
   "cell_type": "markdown",
   "metadata": {},
   "source": [
    "### Task2\n",
    "```python\n",
    "\"\"\"\n",
    "TASK 2: Which telephone number spent the longest time on the phone\n",
    "during the period? Don't forget that time spent answering a call is\n",
    "also time spent on the phone.\n",
    "Print a message:\n",
    "\"<telephone number> spent the longest time, <total time> seconds, on the phone during \n",
    "September 2016.\".\n",
    "\"\"\"\n",
    "```"
   ]
  },
  {
   "cell_type": "code",
   "execution_count": 6,
   "metadata": {},
   "outputs": [
    {
     "name": "stdout",
     "output_type": "stream",
     "text": [
      "\n",
      "(080)33251027 spent the longest time, 90456 seconds, on the phone during September 2016.\n"
     ]
    }
   ],
   "source": [
    "def longest_time(calls):\n",
    "    \"\"\" Return a list of the number spent the longest time \"\"\"\n",
    "    \n",
    "    dict_calls = {}\n",
    "    for call in calls:\n",
    "        for num_phone in call[:2]:\n",
    "            dict_calls[num_phone] = dict_calls.get(num_phone, 0) + int(call[3])\n",
    "    last_tuple = sorted(dict_calls.items(), key=lambda item: item[1])[-1]\n",
    "    return list(last_tuple)\n",
    "\n",
    "print(\"\\n{0} spent the longest time, {1} seconds, on the phone during September 2016.\" \\\n",
    "      .format(longest_time(calls)[0], longest_time(calls)[1]))"
   ]
  },
  {
   "cell_type": "markdown",
   "metadata": {},
   "source": [
    "### Task3\n",
    "```python\n",
    "\"\"\"\n",
    "TASK 3:\n",
    "(080) is the area code for fixed line telephones in Bangalore.\n",
    "Fixed line numbers include parentheses, so Bangalore numbers\n",
    "have the form (080)xxxxxxx.)\n",
    "\n",
    "Part A: Find all of the area codes and mobile prefixes called by people\n",
    "in Bangalore.\n",
    " - Fixed lines start with an area code enclosed in brackets. The area\n",
    "   codes vary in length but always begin with 0.\n",
    " - Mobile numbers have no parentheses, but have a space in the middle\n",
    "   of the number to help readability. The prefix of a mobile number\n",
    "   is its first four digits, and they always start with 7, 8 or 9.\n",
    " - Telemarketers' numbers have no parentheses or space, but they start\n",
    "   with the area code 140.\n",
    "\n",
    "Print the answer as part of a message:\n",
    "\"The numbers called by people in Bangalore have codes:\"\n",
    " <list of codes>\n",
    "The list of codes should be print out one per line in lexicographic order with no duplicates.\n",
    "\n",
    "Part B: What percentage of calls from fixed lines in Bangalore are made\n",
    "to fixed lines also in Bangalore? In other words, of all the calls made\n",
    "from a number starting with \"(080)\", what percentage of these calls\n",
    "were made to a number also starting with \"(080)\"?\n",
    "\n",
    "Print the answer as a part of a message::\n",
    "\"<percentage> percent of calls from fixed lines in Bangalore are calls\n",
    "to other fixed lines in Bangalore.\"\n",
    "The percentage should have 2 decimal digits\n",
    "\"\"\"\n",
    "```"
   ]
  },
  {
   "cell_type": "code",
   "execution_count": 7,
   "metadata": {},
   "outputs": [
    {
     "name": "stdout",
     "output_type": "stream",
     "text": [
      "The numbers called by people in Bangalore have codes:\n",
      "022\n",
      "040\n",
      "04344\n",
      "044\n",
      "04546\n",
      "0471\n",
      "080\n",
      "0821\n",
      "7406\n",
      "7795\n",
      "7813\n",
      "7829\n",
      "8151\n",
      "8152\n",
      "8301\n",
      "8431\n",
      "8714\n",
      "9008\n",
      "9019\n",
      "9035\n",
      "9036\n",
      "9241\n",
      "9242\n",
      "9341\n",
      "9342\n",
      "9343\n",
      "9400\n",
      "9448\n",
      "9449\n",
      "9526\n",
      "9656\n",
      "9738\n",
      "9740\n",
      "9741\n",
      "9742\n",
      "9844\n",
      "9845\n",
      "9900\n",
      "9961\n",
      "\n",
      "24.81 percent of calls from fixed lines in Bangalore are calls to other fixed lines in Bangalore.\n"
     ]
    }
   ],
   "source": [
    "# Part A\n",
    "area_code = []\n",
    "def bangalore(calls):\n",
    "    \"\"\" Return List of de area code \"\"\"\n",
    "    b_call = []\n",
    "\n",
    "    for call in calls:\n",
    "        if call[0][:5] == \"(080)\":\n",
    "            b_call += call[1:2]\n",
    "\n",
    "    for phone in b_call:\n",
    "        if '(' in phone:\n",
    "            area_code.append(phone[1:phone.find(')')])\n",
    "        elif \" \" in phone:\n",
    "            area_code.append(phone[0:4])\n",
    "        else:\n",
    "            area_code.append(phone[0:3])\n",
    "    return area_code\n",
    "\n",
    "\n",
    "print(\"The numbers called by people in Bangalore have codes:\\n\" \\\n",
    "     + \"\\n\".join(sorted(set(bangalore(calls)))))\n",
    "\n",
    "# Part B\n",
    "def b_to_b(area_code):\n",
    "    n = 0\n",
    "    for code in area_code:\n",
    "        if code == \"080\":\n",
    "            n += 1\n",
    "    return n/len(area_code)*100\n",
    "\n",
    "print(\"\\n{0:.2f} percent of calls from fixed lines in Bangalore are calls to other fixed lines in Bangalore.\" \\\n",
    "     .format(b_to_b(area_code)))"
   ]
  },
  {
   "cell_type": "markdown",
   "metadata": {},
   "source": [
    "### Task4\n",
    "```python\n",
    "\"\"\"\n",
    "TASK 4:\n",
    "The telephone company want to identify numbers that might be doing\n",
    "telephone marketing. Create a set of possible telemarketers:\n",
    "these are numbers that make outgoing calls but never send texts,\n",
    "receive texts or receive incoming calls.\n",
    "\n",
    "Print a message:\n",
    "\"These numbers could be telemarketers: \"\n",
    "<list of numbers>\n",
    "The list of numbers should be print out one per line in lexicographic order with no duplicates.\n",
    "\"\"\"\n",
    "```"
   ]
  },
  {
   "cell_type": "code",
   "execution_count": 8,
   "metadata": {},
   "outputs": [
    {
     "name": "stdout",
     "output_type": "stream",
     "text": [
      "These numbers could be telemarketers:\n",
      "(022)37572285\n",
      "(022)65548497\n",
      "(022)68535788\n",
      "(022)69042431\n",
      "(040)30429041\n",
      "(044)22020822\n",
      "(0471)2171438\n",
      "(0471)6579079\n",
      "(080)20383942\n",
      "(080)25820765\n",
      "(080)31606520\n",
      "(080)40362016\n",
      "(080)60463379\n",
      "(080)60998034\n",
      "(080)62963633\n",
      "(080)64015211\n",
      "(080)69887826\n",
      "(0821)3257740\n",
      "1400481538\n",
      "1401747654\n",
      "1402316533\n",
      "1403072432\n",
      "1403579926\n",
      "1404073047\n",
      "1404368883\n",
      "1404787681\n",
      "1407539117\n",
      "1408371942\n",
      "1408409918\n",
      "1408672243\n",
      "1409421631\n",
      "1409668775\n",
      "1409994233\n",
      "74064 66270\n",
      "78291 94593\n",
      "87144 55014\n",
      "90351 90193\n",
      "92414 69419\n",
      "94495 03761\n",
      "97404 30456\n",
      "97407 84573\n",
      "97442 45192\n",
      "99617 25274\n"
     ]
    }
   ],
   "source": [
    "def possible_telemarketers(texts, calls):\n",
    "    \"\"\" Return list of possible telemarketers\"\"\"\n",
    "    not_telemarketers = []\n",
    "    possible_telemarketers = []\n",
    "    telemarketers = []\n",
    "\n",
    "    for text in texts:\n",
    "        not_telemarketers += text[:2]\n",
    "    for call in calls:\n",
    "        not_telemarketers += call[1:2]\n",
    "    for call in calls:\n",
    "        possible_telemarketers += call[0:1]\n",
    "\n",
    "    not_telemarketers = set(not_telemarketers)\n",
    "    possible_telemarketers = set(possible_telemarketers)\n",
    "\n",
    "    for pt in possible_telemarketers:\n",
    "        if pt not in not_telemarketers:\n",
    "            telemarketers.append(pt)\n",
    "\n",
    "    return set(telemarketers)\n",
    "\n",
    "print(\"These numbers could be telemarketers:\\n\" \\\n",
    "     + \"\\n\".join(sorted(possible_telemarketers(texts, calls))))"
   ]
  }
 ],
 "metadata": {
  "kernelspec": {
   "display_name": "Python 3",
   "language": "python",
   "name": "python3"
  },
  "language_info": {
   "codemirror_mode": {
    "name": "ipython",
    "version": 3
   },
   "file_extension": ".py",
   "mimetype": "text/x-python",
   "name": "python",
   "nbconvert_exporter": "python",
   "pygments_lexer": "ipython3",
   "version": "3.7.1"
  }
 },
 "nbformat": 4,
 "nbformat_minor": 4
}
