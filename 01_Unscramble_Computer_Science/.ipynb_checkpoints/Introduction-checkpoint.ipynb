{
 "cells": [
  {
   "cell_type": "markdown",
   "metadata": {},
   "source": [
    "### Prueba de tareas\n",
    "- Espacio de trabajo"
   ]
  },
  {
   "cell_type": "code",
   "execution_count": 1,
   "metadata": {},
   "outputs": [],
   "source": [
    "# import library\n",
    "\n",
    "import csv\n",
    "import time"
   ]
  },
  {
   "cell_type": "code",
   "execution_count": 2,
   "metadata": {},
   "outputs": [],
   "source": [
    "#cargando Los archivos texts y calls\n",
    "\n",
    "with open('./texts.csv', 'r') as f:\n",
    "    reader = csv.reader(f)\n",
    "    texts = list(reader)\n",
    "\n",
    "with open('./calls.csv', 'r') as f:\n",
    "    reader = csv.reader(f)\n",
    "    calls = list(reader)"
   ]
  },
  {
   "cell_type": "code",
   "execution_count": 3,
   "metadata": {},
   "outputs": [
    {
     "name": "stdout",
     "output_type": "stream",
     "text": [
      "[['97424 22395', '90365 06212', '01-09-2016 06:03:22'], ['94489 72078', '92415 91418', '01-09-2016 06:05:35']]\n",
      "[['78130 00821', '98453 94494', '01-09-2016 06:01:12', '186'], ['78298 91466', '(022)28952819', '01-09-2016 06:01:59', '2093']]\n"
     ]
    }
   ],
   "source": [
    "#Exploracion de datos\n",
    "\n",
    "print(texts[:2])\n",
    "print(calls[:2])"
   ]
  },
  {
   "cell_type": "markdown",
   "metadata": {},
   "source": [
    "### Task0\n",
    "```python\n",
    "\"\"\"\n",
    "TASK 1:\n",
    "How many different telephone numbers are there in the records? \n",
    "Print a message:\n",
    "\"There are <count> different telephone numbers in the records.\"\n",
    "\"\"\"\n",
    "```"
   ]
  },
  {
   "cell_type": "code",
   "execution_count": 4,
   "metadata": {},
   "outputs": [
    {
     "name": "stdout",
     "output_type": "stream",
     "text": [
      "\n",
      "First record of texts, 97424 22395 texts 90365 06212 at time 01-09-2016 06:03:22\n",
      "Last record of calls, 98447 62998 calls (080)46304537 at time 30-09-2016 23:57:15, lasting 2151 seconds\n"
     ]
    }
   ],
   "source": [
    "print(\"\\nFirst record of texts, {0} texts {1} at time {2}\" \\\n",
    "      .format(texts[0][0],texts[0][1],texts[0][2]))\n",
    "print(\"Last record of calls, {0} calls {1} at time {2}, lasting {3} seconds\" \\\n",
    "      .format(calls[-1][0], calls[-1][1], calls[-1][2], calls[-1][3]))"
   ]
  },
  {
   "cell_type": "markdown",
   "metadata": {},
   "source": [
    "### Task1\n",
    "```python\n",
    "\"\"\"\n",
    "TASK 1:\n",
    "How many different telephone numbers are there in the records? \n",
    "Print a message:\n",
    "\"There are <count> different telephone numbers in the records.\"\n",
    "\"\"\"\n",
    "```"
   ]
  },
  {
   "cell_type": "code",
   "execution_count": 5,
   "metadata": {},
   "outputs": [
    {
     "name": "stdout",
     "output_type": "stream",
     "text": [
      "\n",
      "There are 570 different telephone numbers in the records.\n"
     ]
    }
   ],
   "source": [
    "def unique_records(list_of_list):\n",
    "    \"\"\" Returns the number of the unique records \"\"\"\n",
    "    \n",
    "    records = []\n",
    "    for l in list_of_list:\n",
    "        records += l[:2]\n",
    "    return len(set(records))\n",
    "\n",
    "all_register = texts + calls\n",
    "print(\"\\nThere are {} different telephone numbers in the records.\" \\\n",
    "      .format(unique_records(all_register)))"
   ]
  },
  {
   "cell_type": "markdown",
   "metadata": {},
   "source": [
    "### Task2\n",
    "```python\n",
    "\"\"\"\n",
    "TASK 2: Which telephone number spent the longest time on the phone\n",
    "during the period? Don't forget that time spent answering a call is\n",
    "also time spent on the phone.\n",
    "Print a message:\n",
    "\"<telephone number> spent the longest time, <total time> seconds, on the phone during \n",
    "September 2016.\".\n",
    "\"\"\"\n",
    "```"
   ]
  },
  {
   "cell_type": "code",
   "execution_count": 6,
   "metadata": {},
   "outputs": [
    {
     "name": "stdout",
     "output_type": "stream",
     "text": [
      "\n",
      "(080)33251027 spent the longest time, 90456 seconds, on the phone during September 2016.\n"
     ]
    }
   ],
   "source": [
    "def longest_time(calls):\n",
    "    \"\"\" Return a list of the number spent the longest time \"\"\"\n",
    "    \n",
    "    dict_calls = {}\n",
    "    for call in calls:\n",
    "        for num_phone in call[:2]:\n",
    "            dict_calls[num_phone] = dict_calls.get(num_phone, 0) + int(call[3])\n",
    "    last_tuple = sorted(dict_calls.items(), key=lambda item: item[1])[-1]\n",
    "    return list(last_tuple)\n",
    "\n",
    "print(\"\\n{0} spent the longest time, {1} seconds, on the phone during September 2016.\" \\\n",
    "      .format(longest_time(calls)[0], longest_time(calls)[1]))"
   ]
  },
  {
   "cell_type": "markdown",
   "metadata": {},
   "source": []
  }
 ],
 "metadata": {
  "kernelspec": {
   "display_name": "Python 3",
   "language": "python",
   "name": "python3"
  },
  "language_info": {
   "codemirror_mode": {
    "name": "ipython",
    "version": 3
   },
   "file_extension": ".py",
   "mimetype": "text/x-python",
   "name": "python",
   "nbconvert_exporter": "python",
   "pygments_lexer": "ipython3",
   "version": "3.7.1"
  }
 },
 "nbformat": 4,
 "nbformat_minor": 4
}
